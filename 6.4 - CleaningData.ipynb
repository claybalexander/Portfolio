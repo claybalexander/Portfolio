{
 "cells": [
  {
   "cell_type": "markdown",
   "metadata": {},
   "source": [
    "# Act 6.4 Stripping Spaces and Cleaning Non-Numeric Junk\n",
    " \n",
    "\n",
    "- [**Stripping Extra Spaces**](#Stripping-Extra-Spaces)  \n",
    "\n",
    "\n",
    "- [**Getting Rid of Non-Numeric Field Junk: Dollar Signs, commas, etc...**](#Getting-Rid-of-Non-Numeric-Field-Junk)    \n",
    "   \n",
    "\n",
    "- [**Changing Data Type**](#Changing-Data-Type)  \n",
    "    - string to int  \n",
    "    - string to float  \n",
    "    - string to date  "
   ]
  },
  {
   "cell_type": "code",
   "execution_count": null,
   "metadata": {},
   "outputs": [],
   "source": [
    "import pandas as pd"
   ]
  },
  {
   "cell_type": "markdown",
   "metadata": {},
   "source": [
    "# Stripping Extra Spaces"
   ]
  },
  {
   "cell_type": "code",
   "execution_count": null,
   "metadata": {},
   "outputs": [],
   "source": [
    "# Hardcode a dataframe \n",
    "df_employees = pd.DataFrame(\n",
    "    [\n",
    "    [1699,'  Robinett, David  ','  david22@adventure-works.com  ', '(827) 525-0100', '06-05-2010', '$80,950'], \n",
    "    [1700,'  Robinson, Rebecca  ','  rebecca5 @adventure-works.com  ', '(829) 525-0101', '05-01-2015', '$70,950'],\n",
    "    [1701,'     Robinson, Dorothy    ','  dorothy3@adventure-works.com    ', '(828) 555-0102', '03-01-2017', '$50,00'],\n",
    "    ], \n",
    "    columns=['BusinessEntityID', 'EmployeeName','EmailAddress', 'PhoneNumber', 'StartDate', 'CurrentSalary'])\n",
    "  \n",
    "df_employees"
   ]
  },
  {
   "cell_type": "code",
   "execution_count": null,
   "metadata": {},
   "outputs": [],
   "source": [
    "# Show the 'before'\n",
    "df_employees['EmployeeName']"
   ]
  },
  {
   "cell_type": "code",
   "execution_count": null,
   "metadata": {},
   "outputs": [],
   "source": [
    "# Strip extra spaces from Product column\n",
    "df_employees['EmployeeName'] = df_employees['EmployeeName']"
   ]
  },
  {
   "cell_type": "code",
   "execution_count": null,
   "metadata": {},
   "outputs": [],
   "source": [
    "# Show the 'after'\n",
    "df_employees['EmployeeName']"
   ]
  },
  {
   "cell_type": "markdown",
   "metadata": {},
   "source": [
    "# Getting Rid of Non-Numeric Field Junk"
   ]
  },
  {
   "cell_type": "code",
   "execution_count": null,
   "metadata": {},
   "outputs": [],
   "source": [
    "# Hardcode a dataframe\n",
    "df_shoes = pd.DataFrame(\n",
    "    [\n",
    "    [1,'2017-01-01','Boots','7 (US)', '$25,000'],\n",
    "    [2,'2017-01-01','Boots','4 (US)', '$35,000'],\n",
    "    [3,'2017-01-01','Boots','6 (US)', '$21,000'],\n",
    "    ],\n",
    "    columns=['OrderID','Order Date','Product','Size','Price'])\n",
    "\n",
    "df_shoes"
   ]
  },
  {
   "cell_type": "code",
   "execution_count": null,
   "metadata": {},
   "outputs": [],
   "source": [
    "# Get rid of non-numeric junk in the Price field\n",
    "df_shoes['Price'] = df_shoes['Price']\n",
    "df_shoes['Price'] = df_shoes['Price']\n",
    "\n",
    "df_shoes['Price'].head()"
   ]
  },
  {
   "cell_type": "code",
   "execution_count": null,
   "metadata": {},
   "outputs": [],
   "source": [
    "# Get rid of non-numeric junk in the Size field\n",
    "df_shoes['Size'] = df_shoes['Size']\n",
    "df_shoes['Size'] = df_shoes['Size']\n",
    "df_shoes['Size'] = df_shoes['Size']\n",
    "\n",
    "df_shoes['Size'].head()"
   ]
  },
  {
   "cell_type": "markdown",
   "metadata": {},
   "source": [
    "# Changing Data Type"
   ]
  },
  {
   "cell_type": "code",
   "execution_count": null,
   "metadata": {},
   "outputs": [],
   "source": [
    "# Check data types\n",
    "# Note the data type for Price and Size are objects, which means pandas thinks they are strings\n",
    "df_shoes.dtypes"
   ]
  },
  {
   "cell_type": "markdown",
   "metadata": {},
   "source": [
    "## Changing a string to an int"
   ]
  },
  {
   "cell_type": "code",
   "execution_count": null,
   "metadata": {},
   "outputs": [],
   "source": [
    "# Change the data type of Size from string to int\n",
    "df_shoes['Size'] = pd.to_numeric(df_shoes['Size']).astype(int)\n",
    "\n",
    "df_shoes.dtypes"
   ]
  },
  {
   "cell_type": "markdown",
   "metadata": {},
   "source": [
    "## Changing a string to a float"
   ]
  },
  {
   "cell_type": "code",
   "execution_count": null,
   "metadata": {},
   "outputs": [],
   "source": [
    "# Change the data type of Price to float\n",
    "# Convert it to numeric and then specify float \n",
    "df_shoes['Price'] = pd.to_numeric(df_shoes['Price']).astype(float)\n",
    "df_shoes.dtypes"
   ]
  },
  {
   "cell_type": "markdown",
   "metadata": {},
   "source": [
    "## string to date"
   ]
  },
  {
   "cell_type": "code",
   "execution_count": null,
   "metadata": {},
   "outputs": [],
   "source": [
    "# Change Order Date from string to date\n",
    "df_shoes['Order Date'] = \n",
    "\n",
    "df_shoes.dtypes"
   ]
  },
  {
   "cell_type": "code",
   "execution_count": null,
   "metadata": {},
   "outputs": [],
   "source": [
    "df_shoes.head()"
   ]
  }
 ],
 "metadata": {
  "kernelspec": {
   "display_name": "Python 3",
   "language": "python",
   "name": "python3"
  },
  "language_info": {
   "codemirror_mode": {
    "name": "ipython",
    "version": 3
   },
   "file_extension": ".py",
   "mimetype": "text/x-python",
   "name": "python",
   "nbconvert_exporter": "python",
   "pygments_lexer": "ipython3",
   "version": "3.7.7"
  }
 },
 "nbformat": 4,
 "nbformat_minor": 4
}
